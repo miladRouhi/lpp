{
 "cells": [
  {
   "cell_type": "code",
   "execution_count": 14,
   "metadata": {},
   "outputs": [],
   "source": [
    "from pulp import LpMaximize, LpProblem, LpStatus, lpSum, LpVariable"
   ]
  },
  {
   "cell_type": "code",
   "execution_count": 15,
   "metadata": {},
   "outputs": [],
   "source": [
    "model = LpProblem(name=\"pizza\", sense=LpMaximize)"
   ]
  },
  {
   "cell_type": "code",
   "execution_count": 16,
   "metadata": {},
   "outputs": [],
   "source": [
    "n = 5\n",
    "m = 3\n",
    "b = 1000000\n",
    "p = [\n",
    "    [120000, 180000, 270000],\n",
    "    [160000, 210000, 320000],\n",
    "    [140000, 190000, 290000],\n",
    "    [90000, 140000, 210000],\n",
    "    [100000, 170000, 230000]\n",
    "]\n",
    "d = [484 , 841 , 1600]"
   ]
  },
  {
   "cell_type": "code",
   "execution_count": 17,
   "metadata": {},
   "outputs": [],
   "source": [
    "x = [[LpVariable(f'x_{i}_{j}', cat='Binary') for j in range(m)] for i in range(n)]"
   ]
  },
  {
   "cell_type": "code",
   "execution_count": 18,
   "metadata": {},
   "outputs": [],
   "source": [
    "model += lpSum(lpSum(x[i][j] * p[i][j] for i in range(n)) for j in range(m)) <= b"
   ]
  },
  {
   "cell_type": "code",
   "execution_count": 19,
   "metadata": {},
   "outputs": [],
   "source": [
    "for i in range(n):\n",
    "    model += lpSum(x[i][j] for j in range(m)) <= 1"
   ]
  },
  {
   "cell_type": "code",
   "execution_count": 20,
   "metadata": {},
   "outputs": [],
   "source": [
    "model += lpSum(x[3][j] for j in range(m)) == 0"
   ]
  },
  {
   "cell_type": "code",
   "execution_count": 21,
   "metadata": {},
   "outputs": [],
   "source": [
    "import numpy as np\n",
    "\n",
    "model += 0.25* np.pi * lpSum(lpSum(x[i][j] for i in range(n)) * d[j] for j in range(m))"
   ]
  },
  {
   "cell_type": "code",
   "execution_count": 22,
   "metadata": {},
   "outputs": [
    {
     "data": {
      "text/plain": [
       "pizza:\n",
       "MAXIMIZE\n",
       "380.132711084365*x_0_0 + 660.519855417254*x_0_1 + 1256.6370614359173*x_0_2 + 380.132711084365*x_1_0 + 660.519855417254*x_1_1 + 1256.6370614359173*x_1_2 + 380.132711084365*x_2_0 + 660.519855417254*x_2_1 + 1256.6370614359173*x_2_2 + 380.132711084365*x_3_0 + 660.519855417254*x_3_1 + 1256.6370614359173*x_3_2 + 380.132711084365*x_4_0 + 660.519855417254*x_4_1 + 1256.6370614359173*x_4_2 + 0.0\n",
       "SUBJECT TO\n",
       "_C1: 120000 x_0_0 + 180000 x_0_1 + 270000 x_0_2 + 160000 x_1_0 + 210000 x_1_1\n",
       " + 320000 x_1_2 + 140000 x_2_0 + 190000 x_2_1 + 290000 x_2_2 + 90000 x_3_0\n",
       " + 140000 x_3_1 + 210000 x_3_2 + 100000 x_4_0 + 170000 x_4_1 + 230000 x_4_2\n",
       " <= 1000000\n",
       "\n",
       "_C2: x_0_0 + x_0_1 + x_0_2 <= 1\n",
       "\n",
       "_C3: x_1_0 + x_1_1 + x_1_2 <= 1\n",
       "\n",
       "_C4: x_2_0 + x_2_1 + x_2_2 <= 1\n",
       "\n",
       "_C5: x_3_0 + x_3_1 + x_3_2 <= 1\n",
       "\n",
       "_C6: x_4_0 + x_4_1 + x_4_2 <= 1\n",
       "\n",
       "_C7: x_3_0 + x_3_1 + x_3_2 = 0\n",
       "\n",
       "VARIABLES\n",
       "0 <= x_0_0 <= 1 Integer\n",
       "0 <= x_0_1 <= 1 Integer\n",
       "0 <= x_0_2 <= 1 Integer\n",
       "0 <= x_1_0 <= 1 Integer\n",
       "0 <= x_1_1 <= 1 Integer\n",
       "0 <= x_1_2 <= 1 Integer\n",
       "0 <= x_2_0 <= 1 Integer\n",
       "0 <= x_2_1 <= 1 Integer\n",
       "0 <= x_2_2 <= 1 Integer\n",
       "0 <= x_3_0 <= 1 Integer\n",
       "0 <= x_3_1 <= 1 Integer\n",
       "0 <= x_3_2 <= 1 Integer\n",
       "0 <= x_4_0 <= 1 Integer\n",
       "0 <= x_4_1 <= 1 Integer\n",
       "0 <= x_4_2 <= 1 Integer"
      ]
     },
     "execution_count": 22,
     "metadata": {},
     "output_type": "execute_result"
    }
   ],
   "source": [
    "model"
   ]
  },
  {
   "cell_type": "code",
   "execution_count": 23,
   "metadata": {},
   "outputs": [
    {
     "data": {
      "text/plain": [
       "1"
      ]
     },
     "execution_count": 23,
     "metadata": {},
     "output_type": "execute_result"
    }
   ],
   "source": [
    "model.solve()"
   ]
  },
  {
   "cell_type": "code",
   "execution_count": 24,
   "metadata": {},
   "outputs": [
    {
     "name": "stdout",
     "output_type": "stream",
     "text": [
      "status: 1, Optimal\n"
     ]
    }
   ],
   "source": [
    "print(f\"status: {model.status}, {LpStatus[model.status]}\")"
   ]
  },
  {
   "cell_type": "code",
   "execution_count": 25,
   "metadata": {},
   "outputs": [
    {
     "name": "stdout",
     "output_type": "stream",
     "text": [
      "objective: 4430.4310397250065\n"
     ]
    }
   ],
   "source": [
    "print(f\"objective: {model.objective.value()}\")"
   ]
  },
  {
   "cell_type": "code",
   "execution_count": 26,
   "metadata": {},
   "outputs": [
    {
     "name": "stdout",
     "output_type": "stream",
     "text": [
      "x_0_0: 0.0\n",
      "x_0_1: 0.0\n",
      "x_0_2: 1.0\n",
      "x_1_0: 0.0\n",
      "x_1_1: 1.0\n",
      "x_1_2: 0.0\n",
      "x_2_0: 0.0\n",
      "x_2_1: 0.0\n",
      "x_2_2: 1.0\n",
      "x_3_0: 0.0\n",
      "x_3_1: 0.0\n",
      "x_3_2: 0.0\n",
      "x_4_0: 0.0\n",
      "x_4_1: 0.0\n",
      "x_4_2: 1.0\n"
     ]
    }
   ],
   "source": [
    "for var in model.variables():\n",
    "   print(f\"{var.name}: {var.value()}\")"
   ]
  },
  {
   "cell_type": "code",
   "execution_count": null,
   "metadata": {},
   "outputs": [],
   "source": []
  }
 ],
 "metadata": {
  "kernelspec": {
   "display_name": "Python 3",
   "language": "python",
   "name": "python3"
  },
  "language_info": {
   "codemirror_mode": {
    "name": "ipython",
    "version": 3
   },
   "file_extension": ".py",
   "mimetype": "text/x-python",
   "name": "python",
   "nbconvert_exporter": "python",
   "pygments_lexer": "ipython3",
   "version": "3.10.11"
  }
 },
 "nbformat": 4,
 "nbformat_minor": 2
}
